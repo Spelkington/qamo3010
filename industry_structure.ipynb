{
 "cells": [
  {
   "cell_type": "code",
   "execution_count": 111,
   "metadata": {},
   "outputs": [],
   "source": [
    "# QAMO ASSIGNMENT 4: Industry Structure Assignment"
   ]
  },
  {
   "cell_type": "code",
   "execution_count": 112,
   "metadata": {},
   "outputs": [],
   "source": [
    "# Import math utilities\n",
    "import numpy as np"
   ]
  },
  {
   "cell_type": "code",
   "execution_count": 113,
   "metadata": {},
   "outputs": [],
   "source": [
    "# Set coefficients for the inverse demand function, P(Q_t) = 15 - Q_t/1000,\n",
    "# and create a function for price.\n",
    "A = 15\n",
    "b = 1/1000.\n",
    "\n",
    "def price(Q_t):\n",
    "    return A - Q_t*b"
   ]
  },
  {
   "cell_type": "code",
   "execution_count": 114,
   "metadata": {},
   "outputs": [],
   "source": [
    "# Set the initial marginal cost for each firm to 1.\n",
    "c = 1"
   ]
  },
  {
   "cell_type": "code",
   "execution_count": 115,
   "metadata": {},
   "outputs": [],
   "source": [
    "# Set initial amount of firms to 2\n",
    "n = 2"
   ]
  },
  {
   "cell_type": "code",
   "execution_count": 116,
   "metadata": {},
   "outputs": [
    {
     "name": "stdout",
     "output_type": "stream",
     "text": [
      "4666.666666666667\n"
     ]
    }
   ],
   "source": [
    "# Because all firms are operating at the same cost, we can use the function\n",
    "# defined in the section's notes to find Q_i for any given demand function\n",
    "# and marginal cost\n",
    "def equilibrium_quantity(max_price, demand_slope, marginal_cost, num_firms):\n",
    "    return (max_price - marginal_cost)/(demand_slope * (num_firms + 1))\n",
    "\n",
    "# Calculate the equalibrium quantity under current conditions\n",
    "Q_i = equilibrium_quantity(A, b, c, n)\n",
    "print(Q_i)"
   ]
  },
  {
   "cell_type": "code",
   "execution_count": 117,
   "metadata": {},
   "outputs": [
    {
     "name": "stdout",
     "output_type": "stream",
     "text": [
      "5.666666666666666\n"
     ]
    }
   ],
   "source": [
    "# Calculate the market price with each firm producing this level of output.\n",
    "P = price(Q_i * n)\n",
    "print (P)"
   ]
  },
  {
   "cell_type": "code",
   "execution_count": 118,
   "metadata": {},
   "outputs": [
    {
     "name": "stdout",
     "output_type": "stream",
     "text": [
      "21777.777777777777\n"
     ]
    }
   ],
   "source": [
    "# To calculate each firm's profit at this quantity, define a profit function.\n",
    "def variable_profit(price, firm_quantity, marginal_cost):\n",
    "    return (price - marginal_cost) * firm_quantity\n",
    "\n",
    "vp = variable_profit(P, Q_i, c)\n",
    "print(vp)"
   ]
  },
  {
   "cell_type": "code",
   "execution_count": 119,
   "metadata": {},
   "outputs": [
    {
     "name": "stdout",
     "output_type": "stream",
     "text": [
      "43555.555555555555\n"
     ]
    }
   ],
   "source": [
    "# Compute the profit that the entire industry is making\n",
    "print(vp * n)"
   ]
  },
  {
   "cell_type": "code",
   "execution_count": 120,
   "metadata": {},
   "outputs": [
    {
     "name": "stdout",
     "output_type": "stream",
     "text": [
      "3.0\n"
     ]
    }
   ],
   "source": [
    "# Now, we need to find out what the market equilibrium number of firms is going\n",
    "# to be. We can use the formula from the class notes to define a ISE function.\n",
    "def equilibrium_firm_count(max_price, demand_slope, marginal_cost, fixed_cost):\n",
    "    result = (max_price - marginal_cost) / np.sqrt(demand_slope * fixed_cost) - 1\n",
    "    return np.floor(result)\n",
    "\n",
    "# Define FC as $8000\n",
    "FC = 8000\n",
    "\n",
    "n = equilibrium_firm_count(A, b, c, FC)\n",
    "print(n)"
   ]
  },
  {
   "cell_type": "code",
   "execution_count": 121,
   "metadata": {},
   "outputs": [
    {
     "name": "stdout",
     "output_type": "stream",
     "text": [
      "3500.0\n",
      "4.5\n",
      "12250.0\n",
      "36750.0\n"
     ]
    }
   ],
   "source": [
    "# Now that the number of bread-making firms will be 3, the equilibrium\n",
    "# quantity and market price will change. Firm profits will also change.\n",
    "\n",
    "Q_i = equilibrium_quantity(A, b, c, n)\n",
    "print(Q_i)\n",
    "\n",
    "P = price(Q_i * n)\n",
    "print(P)\n",
    "\n",
    "vp = variable_profit(P, Q_i, c)\n",
    "print(vp)\n",
    "\n",
    "print(vp * n)"
   ]
  },
  {
   "cell_type": "code",
   "execution_count": 125,
   "metadata": {},
   "outputs": [
    {
     "name": "stdout",
     "output_type": "stream",
     "text": [
      "4.0\n",
      "2800.0\n",
      "3.799999999999999\n",
      "7839.999999999997\n",
      "31359.99999999999\n"
     ]
    }
   ],
   "source": [
    "# Now, the fixed price drops to $7000. Recompute *everything.*\n",
    "\n",
    "FC = 7000\n",
    "\n",
    "n = equilibrium_firm_count(A, b, c, FC)\n",
    "print(n)\n",
    "\n",
    "Q_i = equilibrium_quantity(A, b, c, n)\n",
    "print(Q_i)\n",
    "\n",
    "P = price(Q_i * n)\n",
    "print(P)\n",
    "\n",
    "vp = variable_profit(P, Q_i, c)\n",
    "print(vp)\n",
    "\n",
    "print(vp * n)"
   ]
  },
  {
   "cell_type": "code",
   "execution_count": 127,
   "metadata": {},
   "outputs": [
    {
     "name": "stdout",
     "output_type": "stream",
     "text": [
      "[2620. 2620. 2620. 3520.]\n",
      "3520.0\n"
     ]
    }
   ],
   "source": [
    "# Now, we have the introduction of a new player. This new player's marginal cost\n",
    "# is just $0.10/loaf, but requires more expensive equipment. In order to enter\n",
    "# the market, he'll need to find how low his fixed costs need to go before\n",
    "# entering. Because the marginal cost of firms is not equal across all firms, the\n",
    "# previous equilibrium function will no longer work. Instead, the system of\n",
    "# equations will have to be solved using a matrix.\n",
    "\n",
    "# All other firms operate at a best response function where:\n",
    "#\n",
    "# Q_i = -sum(Q of other firms) / 2 + 7000\n",
    "#\n",
    "# and this new firm operates at\n",
    "#\n",
    "# Q_i = -sum(Q of other firms) / 2 + 7450\n",
    "#\n",
    "# due to its' lower marginal cost. We can define the market matrix as such:\n",
    "\n",
    "lhs = np.array([\n",
    "    [1, 0.5, 0.5, 0.5],\n",
    "    [0.5, 1, 0.5, 0.5],\n",
    "    [0.5, 0.5, 1, 0.5],\n",
    "    [0.5, 0.5, 0.5, 1]\n",
    "])\n",
    "\n",
    "rhs = np.array([\n",
    "    7000,\n",
    "    7000,\n",
    "    7000,\n",
    "    7450\n",
    "])\n",
    "\n",
    "CNE = np.linalg.solve(lhs, rhs) # Solve the matrix\n",
    "Q_i = CNE[len(CNE) - 1] # Grab the new firm's CNE quantity\n",
    "print(CNE)\n",
    "print(Q_i)"
   ]
  },
  {
   "cell_type": "code",
   "execution_count": 128,
   "metadata": {},
   "outputs": [
    {
     "name": "stdout",
     "output_type": "stream",
     "text": [
      "11380.0\n",
      "3.619999999999999\n",
      "12390.399999999998\n"
     ]
    }
   ],
   "source": [
    "# Now that the new firm's quantity is established, we can find that firm's\n",
    "# variable profit at equilibrium.\n",
    "\n",
    "Q_t = sum(CNE)\n",
    "print(Q_t)\n",
    "\n",
    "P = price(Q_t)\n",
    "print(P)\n",
    "\n",
    "VP = variable_profit(P, Q_i, 0.1)\n",
    "print(VP)"
   ]
  }
 ],
 "metadata": {
  "kernelspec": {
   "display_name": "Python 3",
   "language": "python",
   "name": "python3"
  },
  "language_info": {
   "codemirror_mode": {
    "name": "ipython",
    "version": 3
   },
   "file_extension": ".py",
   "mimetype": "text/x-python",
   "name": "python",
   "nbconvert_exporter": "python",
   "pygments_lexer": "ipython3",
   "version": "3.7.0"
  }
 },
 "nbformat": 4,
 "nbformat_minor": 2
}
